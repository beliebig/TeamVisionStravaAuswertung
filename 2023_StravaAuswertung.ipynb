{
  "nbformat": 4,
  "nbformat_minor": 0,
  "metadata": {
    "colab": {
      "provenance": [],
      "mount_file_id": "1I8S2so4NPj3tl2rVqVCgfxPKtA-f82MY",
      "authorship_tag": "ABX9TyN+uxlJdvnGNLPne/S20+4C"
    },
    "kernelspec": {
      "name": "python3",
      "display_name": "Python 3"
    },
    "language_info": {
      "name": "python"
    }
  },
  "cells": [
    {
      "cell_type": "markdown",
      "source": [
        "# Wilkommen zur diesjährigen Team-Vision Strava Auswertung 🎉\n",
        "**Deadline:**\n",
        "Die in Zelle 2 entstehende \"2023_strava_activities.csv\" bitte bis Mittwoch, **30.11.2023 (EoD) an mich (E-Mail, Messanger, ...)**.\n",
        "\n",
        "Es werden die Rides (Virtuell und RealWorld) vom 01.01 - 30.11.2022 ausgewertet. Freut euch auf ein bisschen alljährliche Zahlen-Magic 😏!\n",
        "\n",
        "## Anleitung:\n",
        "\n",
        "1. In Strava anmelden\n",
        "2.  www.strava.com/settings/api aufrufen\n",
        "  (wenn ihr letztes Jahr schon mitgemacht habt, ist Schritt 2 & 3 nicht nochmal nötig):\n",
        "  - Application Name: **Irgendwas**\n",
        "  - Category: **Irgendwas**\n",
        "  - Club: **Leer**\n",
        "  - Website: **https://beliebig.eu** (ist komplett egal, darf aber nicht leer sein)\n",
        "  - Application Description: **leer**\n",
        "  - Authorization Callback Domain: **localhost**\n",
        "  - Haken setzen + Create\n",
        "3. Bild einfügen als Icon - was ist egal.\n",
        "Sehr gut, du hast jetzt einen API Zugang (1000Request Daily, 100 every 15min)\n",
        "4. Authentification:\n",
        " - Gib das hier im Browser ein:\n",
        "  ```\n",
        "  http://www.strava.com/oauth/authorize?client_id=[REPLACE_WITH_YOUR_CLIENT_ID]&response_type=code&redirect_uri=http://localhost/exchange_token&approval_prompt=force&scope=profile:read_all,activity:read_all\n",
        "  ```\n",
        "  Wichtig ist das du die [ ] duch deine *client ID* ersetzt. Die findest du in deiner neu kreierten API\n",
        "  - Lass die \"App\" auf deinen Acoount zugreifen (bestätigen).\n",
        "  - Jetzt kommst du auf eine \"Non-Found\" seite. Das ist genau richtig. Was wir aus dieser **URL** brauchen ist alles was hinter *code=* steht bis zu dem *&*. Das bitte kopieren\n",
        "5. Jetzt geht es hier weiter:\n",
        "  - Alle Infos bei \"data\" einfüllen (*client_id, secret, code*)\n",
        "  - Dann ausführen\n",
        "  - Auch im nächsten Frame XXXX befüllen\n",
        "\n"
      ],
      "metadata": {
        "id": "h7Lm8KoAgZCr"
      }
    },
    {
      "cell_type": "code",
      "execution_count": 1,
      "metadata": {
        "colab": {
          "base_uri": "https://localhost:8080/",
          "height": 254
        },
        "id": "fuo-4EHkIEHS",
        "outputId": "5bba3765-7f9f-40e6-dcb0-88f7a49f643c"
      },
      "outputs": [
        {
          "output_type": "error",
          "ename": "NameError",
          "evalue": "ignored",
          "traceback": [
            "\u001b[0;31m---------------------------------------------------------------------------\u001b[0m",
            "\u001b[0;31mNameError\u001b[0m                                 Traceback (most recent call last)",
            "\u001b[0;32m<ipython-input-1-6fdca4d7fe67>\u001b[0m in \u001b[0;36m<cell line: 4>\u001b[0;34m()\u001b[0m\n\u001b[1;32m      5\u001b[0m     \u001b[0murl\u001b[0m \u001b[0;34m=\u001b[0m \u001b[0;34m'https://www.strava.com/oauth/token'\u001b[0m\u001b[0;34m,\u001b[0m\u001b[0;34m\u001b[0m\u001b[0;34m\u001b[0m\u001b[0m\n\u001b[1;32m      6\u001b[0m     data = {\n\u001b[0;32m----> 7\u001b[0;31m         \u001b[0;34m'client_id'\u001b[0m\u001b[0;34m:\u001b[0m \u001b[0mXXXX\u001b[0m\u001b[0;34m,\u001b[0m\u001b[0;34m\u001b[0m\u001b[0;34m\u001b[0m\u001b[0m\n\u001b[0m\u001b[1;32m      8\u001b[0m         \u001b[0;34m'client_secret'\u001b[0m\u001b[0;34m:\u001b[0m \u001b[0;34m'XXXXX'\u001b[0m\u001b[0;34m,\u001b[0m\u001b[0;34m\u001b[0m\u001b[0;34m\u001b[0m\u001b[0m\n\u001b[1;32m      9\u001b[0m         \u001b[0;34m'code'\u001b[0m\u001b[0;34m:\u001b[0m \u001b[0;34m'XXXXX'\u001b[0m\u001b[0;34m,\u001b[0m\u001b[0;34m\u001b[0m\u001b[0;34m\u001b[0m\u001b[0m\n",
            "\u001b[0;31mNameError\u001b[0m: name 'XXXX' is not defined"
          ]
        }
      ],
      "source": [
        "import requests\n",
        "import json\n",
        "\n",
        "response = requests.post(\n",
        "    url = 'https://www.strava.com/oauth/token',\n",
        "    data = {\n",
        "        'client_id': XXXX,\n",
        "        'client_secret': 'XXXXX',\n",
        "        'code': 'XXXXX',\n",
        "        'grant_type': 'authorization_code'\n",
        "        }\n",
        ")\n",
        "\n",
        "\n",
        "strava_tokens = response.json()\n",
        "\n",
        "with open ('strava_tokens.json', 'w') as outfile:\n",
        "  json.dump(strava_tokens, outfile)\n",
        "\n",
        "with open ('strava_tokens.json') as check:\n",
        "  data = json.load(check)\n",
        "print(data)"
      ]
    },
    {
      "cell_type": "code",
      "source": [
        "import pandas as pd\n",
        "import time\n",
        "\n",
        "\n",
        "with open('strava_tokens.json') as json_file:\n",
        "    strava_tokens = json.load(json_file)\n",
        "if strava_tokens['expires_at'] < time.time():\n",
        "    response = requests.post(\n",
        "                        url = 'https://www.strava.com/oauth/token',\n",
        "                        data = {\n",
        "                                'client_id': XXXXX,\n",
        "                                'client_secret': 'XXXXXX',\n",
        "                                'grant_type': 'refresh_token',\n",
        "                                'refresh_token': strava_tokens['refresh_token']\n",
        "                                }\n",
        "                    )#Save response as json in new variable\n",
        "\n",
        "    new_strava_tokens = response.json()# Save new tokens to file\n",
        "\n",
        "    with open('strava_tokens.json', 'w') as outfile:\n",
        "        json.dump(new_strava_tokens, outfile)#Use new Strava tokens from now\n",
        "        strava_tokens = new_strava_tokens#Loop through all activities\n",
        "\n",
        "page = 1\n",
        "url = \"https://www.strava.com/api/v3/activities\"\n",
        "access_token = strava_tokens['access_token']\n",
        "r_filtered = []\n",
        "\n",
        "while True:\n",
        "\n",
        "    # get page of activities from Strava\n",
        "    r = requests.get(url + '?access_token=' + access_token + '&per_page=200' + '&page=' + str(page))\n",
        "    r = r.json()# if no results then exit loop\n",
        "\n",
        "    for i in r:\n",
        "      if ((i['type'] == 'VirtualRide') or (i['type'] == 'Ride')) and ('2023-' in i['start_date_local']):\n",
        "        r_filtered.append(i)\n",
        "\n",
        "    if (not r):\n",
        "        break\n",
        "\n",
        "    page += 1\n",
        "\n",
        "\n",
        "activities = pd.DataFrame(\n",
        "    columns = [\n",
        "            \"id\",\n",
        "            \"name\",\n",
        "            \"start_date_local\",\n",
        "            \"type\",\n",
        "            \"visibility\",\n",
        "            \"distance\", # in Meters\n",
        "            \"moving_time\",\n",
        "            \"elapsed_time\",\n",
        "            \"total_elevation_gain\",\n",
        "            \"average_speed\", # Meters per second\n",
        "            \"average_cadence\",\n",
        "            \"average_watts\",\n",
        "            \"device_watts\",\n",
        "            \"end_latlng\",\n",
        "            \"kudos_count\",\n",
        "            \"athlete_count\",\n",
        "            \"total_photo_count\",\n",
        "            \"external_id\"\n",
        "    ]\n",
        ")\n",
        "while float('NaN') in r_filtered:\n",
        "    r_filtered.remove(float('NaN'))\n",
        "\n",
        "for x in range(len(r_filtered)):\n",
        "  try:\n",
        "      activities.loc[x,'id'] = r_filtered[x]['id']\n",
        "      activities.loc[x,'name'] = r_filtered[x]['name']\n",
        "      activities.loc[x,'start_date_local'] = r_filtered[x]['start_date_local']\n",
        "      activities.loc[x,'type'] = r_filtered[x]['type']\n",
        "      activities.loc[x,'visibility'] = r_filtered[x]['visibility']\n",
        "      activities.loc[x,'distance'] = r_filtered[x]['distance']\n",
        "      activities.loc[x,'moving_time'] = r_filtered[x]['moving_time']\n",
        "      activities.loc[x,'elapsed_time'] = r_filtered[x]['elapsed_time']\n",
        "      activities.loc[x,'total_elevation_gain'] = r_filtered[x]['total_elevation_gain']\n",
        "      activities.loc[x,'average_speed'] = r_filtered[x]['average_speed']\n",
        "      activities.loc[x,'average_cadence'] = r_filtered[x]['average_cadence']\n",
        "      activities.loc[x,'average_watts'] = r_filtered[x]['average_watts']\n",
        "      activities.loc[x,'device_watts'] = r_filtered[x]['device_watts']\n",
        "      activities.loc[x,'end_latlng'] = r_filtered[x]['end_latlng']\n",
        "      activities.loc[x,'kudos_count'] = r_filtered[x]['kudos_count']\n",
        "      activities.loc[x,'athlete_count'] = r_filtered[x]['athlete_count']\n",
        "      activities.loc[x,'total_photo_count'] = r_filtered[x]['total_photo_count']\n",
        "      activities.loc[x,'external_id'] = r_filtered[x]['external_id']\n",
        "  except KeyError: pass\n",
        "\n",
        "\n",
        "activities.to_csv('2023_strava_bike-activities.csv')\n",
        "print(\"Done - File sollte in diesem Verzeichnis liegen. Bitte an Bene schicken.\")"
      ],
      "metadata": {
        "id": "Fd0rM5vCm1Rc",
        "colab": {
          "base_uri": "https://localhost:8080/",
          "height": 254
        },
        "outputId": "c79033f7-bea6-41b1-c5b5-0967ce91cb7b"
      },
      "execution_count": 2,
      "outputs": [
        {
          "output_type": "error",
          "ename": "FileNotFoundError",
          "evalue": "ignored",
          "traceback": [
            "\u001b[0;31m---------------------------------------------------------------------------\u001b[0m",
            "\u001b[0;31mFileNotFoundError\u001b[0m                         Traceback (most recent call last)",
            "\u001b[0;32m<ipython-input-2-0b5951283d70>\u001b[0m in \u001b[0;36m<cell line: 5>\u001b[0;34m()\u001b[0m\n\u001b[1;32m      3\u001b[0m \u001b[0;34m\u001b[0m\u001b[0m\n\u001b[1;32m      4\u001b[0m \u001b[0;34m\u001b[0m\u001b[0m\n\u001b[0;32m----> 5\u001b[0;31m \u001b[0;32mwith\u001b[0m \u001b[0mopen\u001b[0m\u001b[0;34m(\u001b[0m\u001b[0;34m'strava_tokens.json'\u001b[0m\u001b[0;34m)\u001b[0m \u001b[0;32mas\u001b[0m \u001b[0mjson_file\u001b[0m\u001b[0;34m:\u001b[0m\u001b[0;34m\u001b[0m\u001b[0;34m\u001b[0m\u001b[0m\n\u001b[0m\u001b[1;32m      6\u001b[0m     \u001b[0mstrava_tokens\u001b[0m \u001b[0;34m=\u001b[0m \u001b[0mjson\u001b[0m\u001b[0;34m.\u001b[0m\u001b[0mload\u001b[0m\u001b[0;34m(\u001b[0m\u001b[0mjson_file\u001b[0m\u001b[0;34m)\u001b[0m\u001b[0;34m\u001b[0m\u001b[0;34m\u001b[0m\u001b[0m\n\u001b[1;32m      7\u001b[0m \u001b[0;32mif\u001b[0m \u001b[0mstrava_tokens\u001b[0m\u001b[0;34m[\u001b[0m\u001b[0;34m'expires_at'\u001b[0m\u001b[0;34m]\u001b[0m \u001b[0;34m<\u001b[0m \u001b[0mtime\u001b[0m\u001b[0;34m.\u001b[0m\u001b[0mtime\u001b[0m\u001b[0;34m(\u001b[0m\u001b[0;34m)\u001b[0m\u001b[0;34m:\u001b[0m\u001b[0;34m\u001b[0m\u001b[0;34m\u001b[0m\u001b[0m\n",
            "\u001b[0;31mFileNotFoundError\u001b[0m: [Errno 2] No such file or directory: 'strava_tokens.json'"
          ]
        }
      ]
    },
    {
      "cell_type": "code",
      "source": [],
      "metadata": {
        "id": "AdZ7VDopCzOL"
      },
      "execution_count": null,
      "outputs": []
    }
  ]
}